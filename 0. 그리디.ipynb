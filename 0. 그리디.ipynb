{
 "cells": [
  {
   "cell_type": "markdown",
   "metadata": {},
   "source": [
    "# Chapter11 그리디"
   ]
  },
  {
   "cell_type": "markdown",
   "metadata": {},
   "source": [
    "## 03. 문자열 그리디"
   ]
  },
  {
   "cell_type": "code",
   "execution_count": 5,
   "metadata": {},
   "outputs": [
    {
     "name": "stdout",
     "output_type": "stream",
     "text": [
      "11111\n"
     ]
    },
    {
     "data": {
      "text/plain": [
       "0"
      ]
     },
     "execution_count": 5,
     "metadata": {},
     "output_type": "execute_result"
    }
   ],
   "source": [
    "S = input()\n",
    "answer = 0 \n",
    "for i in range(0,len(S)-1):\n",
    "    if S[i] != S[i+1]:\n",
    "        print(i)\n",
    "answer"
   ]
  },
  {
   "cell_type": "markdown",
   "metadata": {},
   "source": [
    "### 시도한 코드\n",
    "* 문자열 S에서 앞뒤 숫자가 동일하지 않은 횟수를 체크함"
   ]
  },
  {
   "cell_type": "code",
   "execution_count": 13,
   "metadata": {},
   "outputs": [
    {
     "data": {
      "text/plain": [
       "0"
      ]
     },
     "execution_count": 13,
     "metadata": {},
     "output_type": "execute_result"
    }
   ],
   "source": [
    "S = '111'\n",
    "answer = 0 \n",
    "for i in range(0,len(S)-1):\n",
    "    if S[i] != S[i+1]:\n",
    "        answer += 1\n",
    "        print(i)\n",
    "answer"
   ]
  },
  {
   "cell_type": "code",
   "execution_count": 15,
   "metadata": {},
   "outputs": [
    {
     "name": "stdout",
     "output_type": "stream",
     "text": [
      "1111\n"
     ]
    },
    {
     "data": {
      "text/plain": [
       "0"
      ]
     },
     "execution_count": 15,
     "metadata": {},
     "output_type": "execute_result"
    }
   ],
   "source": [
    "#1번만 바꾸는 경우 0이 나옴\n",
    "S = input()\n",
    "answer = 0 \n",
    "for i in range(0,len(S)-1):\n",
    "    if S[i] != S[i+1]:\n",
    "        answer += 1\n",
    "answer = answer//2\n",
    "answer"
   ]
  },
  {
   "cell_type": "markdown",
   "metadata": {},
   "source": [
    "### 최종 코드\n",
    "* 참고한 링크: https://codingpractices.tistory.com/72\n",
    "* 좀 더 좋은 풀이를 알고 싶음"
   ]
  },
  {
   "cell_type": "code",
   "execution_count": null,
   "metadata": {},
   "outputs": [],
   "source": [
    "S = input()\n",
    "answer = 0 \n",
    "for i in range(0,len(S)-1):\n",
    "    if S[i] != S[i+1]:\n",
    "        answer += 1\n",
    "print((answer+1)//2)"
   ]
  },
  {
   "cell_type": "markdown",
   "metadata": {},
   "source": [
    "## 04. 만들 수 없는 금액"
   ]
  },
  {
   "cell_type": "markdown",
   "metadata": {},
   "source": [
    "### 시도한 코드"
   ]
  },
  {
   "cell_type": "code",
   "execution_count": 25,
   "metadata": {},
   "outputs": [
    {
     "data": {
      "text/plain": [
       "5"
      ]
     },
     "execution_count": 25,
     "metadata": {},
     "output_type": "execute_result"
    }
   ],
   "source": [
    "N= 5\n",
    "coin = [3,2,1,1,9]\n",
    "len(coin)"
   ]
  },
  {
   "cell_type": "code",
   "execution_count": 48,
   "metadata": {},
   "outputs": [
    {
     "data": {
      "text/plain": [
       "5"
      ]
     },
     "execution_count": 48,
     "metadata": {},
     "output_type": "execute_result"
    }
   ],
   "source": [
    "sum(list(combinations(coin,2))[0])"
   ]
  },
  {
   "cell_type": "markdown",
   "metadata": {},
   "source": [
    "### 최종 코드\n",
    "* itertools 라이브러리 사용 가능 여부 확인 필요\n",
    "* 동전 합으로 나올 수 있는 최댓값 범위 확인 필요"
   ]
  },
  {
   "cell_type": "code",
   "execution_count": 62,
   "metadata": {},
   "outputs": [
    {
     "name": "stdout",
     "output_type": "stream",
     "text": [
      "5\n",
      "3 2 1 1 9\n",
      "8\n"
     ]
    }
   ],
   "source": [
    "from itertools import combinations, permutations\n",
    "\n",
    "N = input()\n",
    "coin = list(map(int,input().split()))\n",
    "\n",
    "#가지고 있는 동전으로 만들 수 있는 조합 리스트 만듬\n",
    "coin_com = []\n",
    "for i in range(1,len(coin)+1):\n",
    "    coin_com = coin_com + list(combinations(coin,i))\n",
    "\n",
    "#동전 조합의 합 리스트 만듬\n",
    "coin_sum = []\n",
    "for i in coin_com:\n",
    "    if sum(i) not in coin_sum:\n",
    "        coin_sum.append(sum(i))\n",
    "\n",
    "#동전 조합의 합 리스트에서 없는 자연수 찾기\n",
    "for i in range(1,100000):\n",
    "    if i not in coin_sum:\n",
    "        print(i)\n",
    "        break"
   ]
  },
  {
   "cell_type": "markdown",
   "metadata": {},
   "source": [
    "## 05. 볼링공 고르기 "
   ]
  },
  {
   "cell_type": "markdown",
   "metadata": {},
   "source": [
    "### 시도한 코드"
   ]
  },
  {
   "cell_type": "code",
   "execution_count": 79,
   "metadata": {},
   "outputs": [
    {
     "data": {
      "text/plain": [
       "8"
      ]
     },
     "execution_count": 79,
     "metadata": {},
     "output_type": "execute_result"
    }
   ],
   "source": [
    "ball = [1,3,2,3,2]\n",
    "\n",
    "ball_pick = []\n",
    "for i in combinations(ball,2):\n",
    "    ball_pick.append(i)\n",
    "    \n",
    "for i in ball_pick:\n",
    "    if i[0] == i[1]:\n",
    "        ball_pick.remove(i)\n",
    "\n",
    "len(ball_pick)"
   ]
  },
  {
   "cell_type": "markdown",
   "metadata": {},
   "source": [
    "### 최종 코드"
   ]
  },
  {
   "cell_type": "code",
   "execution_count": 86,
   "metadata": {},
   "outputs": [
    {
     "name": "stdout",
     "output_type": "stream",
     "text": [
      "8 5\n",
      "1 5 4 3 2 4 5 2\n"
     ]
    },
    {
     "data": {
      "text/plain": [
       "25"
      ]
     },
     "execution_count": 86,
     "metadata": {},
     "output_type": "execute_result"
    }
   ],
   "source": [
    "from itertools import combinations, permutations\n",
    "\n",
    "N = map(int,input().split())\n",
    "ball = list(map(int,input().split()))\n",
    "\n",
    "#두 사람이 공을 고를 수 있는 경우의 수\n",
    "ball_pick = []\n",
    "for i in combinations(ball,2):\n",
    "    ball_pick.append(i)\n",
    "    \n",
    "#두 사람의 공이 동일한 경우 제거\n",
    "for i in ball_pick:\n",
    "    if i[0] == i[1]:\n",
    "        ball_pick.remove(i)\n",
    "\n",
    "answer = len(ball_pick)\n",
    "answer"
   ]
  },
  {
   "cell_type": "markdown",
   "metadata": {},
   "source": [
    "## 02. 곱하기 혹은 더하기"
   ]
  },
  {
   "cell_type": "code",
   "execution_count": null,
   "metadata": {},
   "outputs": [],
   "source": []
  },
  {
   "cell_type": "code",
   "execution_count": 39,
   "metadata": {},
   "outputs": [
    {
     "data": {
      "text/plain": [
       "576"
      ]
     },
     "execution_count": 39,
     "metadata": {},
     "output_type": "execute_result"
    }
   ],
   "source": [
    "S = '12984'\n",
    "S = S.replace('0','')\n",
    "\n",
    "answer = int(S[0])\n",
    "answer\n",
    "\n",
    "for i in S[1:]:\n",
    "    if i == '1':\n",
    "        answer += int(i)\n",
    "    else:\n",
    "        answer *= int(i)\n",
    "answer"
   ]
  },
  {
   "cell_type": "code",
   "execution_count": null,
   "metadata": {},
   "outputs": [],
   "source": []
  },
  {
   "cell_type": "code",
   "execution_count": 29,
   "metadata": {},
   "outputs": [
    {
     "data": {
      "text/plain": [
       "26"
      ]
     },
     "execution_count": 29,
     "metadata": {},
     "output_type": "execute_result"
    }
   ],
   "source": [
    "S = '02987'\n",
    "\n",
    "answer = int(S[0])\n",
    "\n",
    "for i in S[1:]:\n",
    "    if S[0] == '0' or S[0] == '1' or i =='0' or i == '1':\n",
    "        answer += int(i)\n",
    "    else:\n",
    "        answer *= int(i)\n",
    "    \n",
    "answer"
   ]
  },
  {
   "cell_type": "code",
   "execution_count": null,
   "metadata": {},
   "outputs": [],
   "source": [
    "def solution(food_times, k):\n",
    "    answer = 0\n",
    "    return answer"
   ]
  },
  {
   "cell_type": "code",
   "execution_count": 51,
   "metadata": {},
   "outputs": [
    {
     "name": "stdout",
     "output_type": "stream",
     "text": [
      "[2, 1, 2]\n",
      "[2, 0, 2]\n",
      "[2, 0, 1]\n"
     ]
    },
    {
     "ename": "IndexError",
     "evalue": "list index out of range",
     "output_type": "error",
     "traceback": [
      "\u001b[1;31m---------------------------------------------------------------------------\u001b[0m",
      "\u001b[1;31mIndexError\u001b[0m                                Traceback (most recent call last)",
      "\u001b[1;32m~\\AppData\\Local\\Temp/ipykernel_23444/812977226.py\u001b[0m in \u001b[0;36m<module>\u001b[1;34m\u001b[0m\n\u001b[0;32m      3\u001b[0m \u001b[1;33m\u001b[0m\u001b[0m\n\u001b[0;32m      4\u001b[0m \u001b[1;32mfor\u001b[0m \u001b[0mi\u001b[0m \u001b[1;32min\u001b[0m \u001b[0mrange\u001b[0m\u001b[1;33m(\u001b[0m\u001b[1;36m0\u001b[0m\u001b[1;33m,\u001b[0m\u001b[0mk\u001b[0m\u001b[1;33m)\u001b[0m\u001b[1;33m:\u001b[0m\u001b[1;33m\u001b[0m\u001b[1;33m\u001b[0m\u001b[0m\n\u001b[1;32m----> 5\u001b[1;33m     \u001b[0mfood_times\u001b[0m\u001b[1;33m[\u001b[0m\u001b[0mi\u001b[0m\u001b[1;33m]\u001b[0m \u001b[1;33m-=\u001b[0m \u001b[1;36m1\u001b[0m\u001b[1;33m\u001b[0m\u001b[1;33m\u001b[0m\u001b[0m\n\u001b[0m\u001b[0;32m      6\u001b[0m     \u001b[0mprint\u001b[0m\u001b[1;33m(\u001b[0m\u001b[0mfood_times\u001b[0m\u001b[1;33m)\u001b[0m\u001b[1;33m\u001b[0m\u001b[1;33m\u001b[0m\u001b[0m\n",
      "\u001b[1;31mIndexError\u001b[0m: list index out of range"
     ]
    }
   ],
   "source": [
    "food_times = [3,1,2]\n",
    "k = 5\n",
    "\n",
    "for i in range(0,k):\n",
    "    if food_times != 0:\n",
    "        food_times[i] -= 1\n",
    "    else:\n",
    "        food_times[i+1]\n",
    "        print(food_times)"
   ]
  },
  {
   "cell_type": "code",
   "execution_count": 49,
   "metadata": {},
   "outputs": [
    {
     "data": {
      "text/plain": [
       "[1, 0, 0]"
      ]
     },
     "execution_count": 49,
     "metadata": {},
     "output_type": "execute_result"
    }
   ],
   "source": [
    "3%5\n",
    "food_times = [3,1,2]\n",
    "food_times[0] = food_times[0]-1\n",
    "food_times[1] = food_times[1]-1\n",
    "food_times[2] = food_times[2]-1\n",
    "\n",
    "food_times[0] = food_times[0]-1\n",
    "food_times[2] = food_times[2]-1\n",
    "food_times"
   ]
  },
  {
   "cell_type": "code",
   "execution_count": null,
   "metadata": {},
   "outputs": [],
   "source": []
  },
  {
   "cell_type": "code",
   "execution_count": null,
   "metadata": {},
   "outputs": [],
   "source": []
  },
  {
   "cell_type": "code",
   "execution_count": null,
   "metadata": {},
   "outputs": [],
   "source": []
  },
  {
   "cell_type": "markdown",
   "metadata": {},
   "source": [
    "* 참고할 링크: https://velog.io/@sosoeueun/Python-%EC%BD%94%EB%94%A9-%ED%85%8C%EC%8A%A4%ED%8A%B8-%EB%AC%B8%EB%B2%95-%EC%A3%BC%EC%9A%94-%EB%9D%BC%EC%9D%B4%EB%B8%8C%EB%9F%AC%EB%A6%AC%EC%9D%98-%EB%AC%B8%EB%B2%95%EA%B3%BC-%EC%9C%A0%EC%9D%98%EC%A0%90"
   ]
  },
  {
   "cell_type": "code",
   "execution_count": null,
   "metadata": {},
   "outputs": [],
   "source": []
  }
 ],
 "metadata": {
  "kernelspec": {
   "display_name": "Python 3 (ipykernel)",
   "language": "python",
   "name": "python3"
  },
  "language_info": {
   "codemirror_mode": {
    "name": "ipython",
    "version": 3
   },
   "file_extension": ".py",
   "mimetype": "text/x-python",
   "name": "python",
   "nbconvert_exporter": "python",
   "pygments_lexer": "ipython3",
   "version": "3.9.7"
  }
 },
 "nbformat": 4,
 "nbformat_minor": 4
}
