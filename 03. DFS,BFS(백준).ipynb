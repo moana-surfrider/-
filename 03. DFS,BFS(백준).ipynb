{
 "cells": [
  {
   "cell_type": "markdown",
   "metadata": {},
   "source": [
    "## 2667번: 단지번호 붙이기\n",
    "* https://www.acmicpc.net/problem/2667\n",
    "* DFS 사용\n",
    "* 단지 속한 집의 수를 리스트 home 에 넣기 -> 리스트 갯수가 단지 수와 동일하므로 리스트 갯수를 출력 후, 집의 수 출력"
   ]
  },
  {
   "cell_type": "markdown",
   "metadata": {},
   "source": [
    "### 최종 코드"
   ]
  },
  {
   "cell_type": "code",
   "execution_count": null,
   "metadata": {},
   "outputs": [],
   "source": [
    "n = int(input())\n",
    "graph = []\n",
    "for i in range(n):\n",
    "    graph.append(list(map(int,input())))\n",
    "    \n",
    "home = []\n",
    "cnt = 0\n",
    "dx = [-1,1,0,0]\n",
    "dy = [0,0,-1,1]\n",
    " \n",
    "def dfs(x,y):\n",
    "    global cnt\n",
    "    if x<0 or x>=n or y<0 or y>=n:\n",
    "        return False\n",
    "    \n",
    "    if graph[x][y]==1:\n",
    "        cnt +=1\n",
    "        graph[x][y] = 0\n",
    "        for i in range(4):\n",
    "            dfs(x+dx[i],y+dy[i])\n",
    "        return True\n",
    "    \n",
    "    \n",
    "for i in range(n):\n",
    "    for j in range(n):\n",
    "        if dfs(i,j)==True:\n",
    "            home.append(cnt)\n",
    "            cnt = 0\n",
    "            \n",
    "print(len(home))\n",
    "home.sort()\n",
    "for i in home:\n",
    "    print(i)"
   ]
  },
  {
   "cell_type": "markdown",
   "metadata": {},
   "source": [
    "## 2468번 : 안전영역"
   ]
  },
  {
   "cell_type": "markdown",
   "metadata": {},
   "source": [
    "* https://www.acmicpc.net/problem/2468\n",
    "* BFS 사용이 문제에 잘 적용이 되지 않아서 못풀었음"
   ]
  },
  {
   "cell_type": "markdown",
   "metadata": {},
   "source": [
    "# 참고한 코드"
   ]
  },
  {
   "cell_type": "code",
   "execution_count": null,
   "metadata": {},
   "outputs": [],
   "source": [
    "from collections import deque\n",
    "\n",
    "n = int(input())\n",
    "graph = []\n",
    "max_height = 0\n",
    "for _ in range(n):\n",
    "    graph.append(list(map(int, input().split())))\n",
    "    max_height = max(max_height, max(graph[-1]))\n",
    "    \n",
    "dx = [-1, 1, 0, 0]\n",
    "dy = [0, 0, -1, 1]\n",
    "    \n",
    "def bfs(x, y, r):\n",
    "    queue = deque()\n",
    "    queue.append((x, y))\n",
    "    visited[x][y] = 1\n",
    "    \n",
    "    while queue:\n",
    "        x, y = queue.popleft()\n",
    "        for i in range(4):\n",
    "            nx = x + dx[i]\n",
    "            ny = y + dy[i]\n",
    "            if nx<0 or nx>=n or ny<0 or ny>=n:\n",
    "                continue\n",
    "            if visited[nx][ny] == 1 or graph[nx][ny] <= r:\n",
    "                continue\n",
    "            queue.append((nx, ny))\n",
    "            visited[nx][ny] = 1\n",
    "\n",
    "result = 0\n",
    "for i in range(max_height):\n",
    "    count = 0\n",
    "    visited = [[0]*n for _ in range(n)]\n",
    "    for j in range(n):\n",
    "        for k in range(n):\n",
    "            if graph[j][k] > i and visited[j][k] == 0:\n",
    "                bfs(j, k, i)\n",
    "                count += 1\n",
    "    result = max(result, count)\n",
    "    \n",
    "print(result)"
   ]
  },
  {
   "cell_type": "markdown",
   "metadata": {},
   "source": [
    "## 2583번 : 영역 구하기"
   ]
  },
  {
   "cell_type": "markdown",
   "metadata": {},
   "source": [
    "* https://www.acmicpc.net/problem/2583\n",
    "* DFS 사용\n",
    "* 런타임 에러남"
   ]
  },
  {
   "cell_type": "code",
   "execution_count": null,
   "metadata": {},
   "outputs": [],
   "source": [
    "m, n, k = map(int, input().split())\n",
    "graph = [[0] * n for _ in range(m)]\n",
    "for _ in range(k):\n",
    "    x1, y1, x2, y2 = map(int, input().split())\n",
    "    for i in range(y1, y2):\n",
    "        for j in range(x1, x2):\n",
    "            graph[i][j] = 1\n",
    "            \n",
    "dx = [-1, 1, 0, 0]\n",
    "dy = [0, 0, -1, 1]\n",
    "count = 0\n",
    "\n",
    "def dfs(x, y):\n",
    "    global count\n",
    "    if x<0 or x>=m or y<0 or y>=n:\n",
    "        return 0\n",
    "    if graph[x][y] == 1:\n",
    "        return 0\n",
    "    \n",
    "    graph[x][y] = 1\n",
    "    count += 1\n",
    "    for i in range(4):\n",
    "        dfs(x+dx[i], y+dy[i])\n",
    "    \n",
    "    return count\n",
    "\n",
    "result = []\n",
    "for i in range(m):\n",
    "    for j in range(n):\n",
    "        cnt = dfs(i,j)\n",
    "        if cnt:\n",
    "            result.append(cnt)\n",
    "            count = 0\n",
    "            \n",
    "result.sort()\n",
    "print(len(result))\n",
    "for i in result:\n",
    "    print(i, end=' ')"
   ]
  }
 ],
 "metadata": {
  "kernelspec": {
   "display_name": "Python 3",
   "language": "python",
   "name": "python3"
  },
  "language_info": {
   "codemirror_mode": {
    "name": "ipython",
    "version": 3
   },
   "file_extension": ".py",
   "mimetype": "text/x-python",
   "name": "python",
   "nbconvert_exporter": "python",
   "pygments_lexer": "ipython3",
   "version": "3.8.3"
  }
 },
 "nbformat": 4,
 "nbformat_minor": 4
}
