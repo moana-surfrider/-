{
 "cells": [
  {
   "cell_type": "markdown",
   "metadata": {},
   "source": [
    "# 07. 럭키 스트레이트"
   ]
  },
  {
   "cell_type": "markdown",
   "metadata": {},
   "source": [
    "## 시도 코드\n",
    "* N에 점수, N_str에 N을 문자형으로 각 자리의 수, half_len에 점수에 반절 자릿수 할당 -> 왼쪽 부분(sum1), 오른쪽 부분(sum2) 동일하면 LUCKY, 그 외의 경우 READY 출력"
   ]
  },
  {
   "cell_type": "code",
   "execution_count": 16,
   "metadata": {},
   "outputs": [
    {
     "name": "stdout",
     "output_type": "stream",
     "text": [
      "READY\n"
     ]
    }
   ],
   "source": [
    "N = 123462\n",
    "N_str = [i for i in str(N)]\n",
    "half_len = int(len(N_str)/2)\n",
    "\n",
    "sum1 = 0\n",
    "for i in N_str[0:half_len]:\n",
    "    sum1 += int(i)\n",
    "sum2 = 0\n",
    "for j in N_str[half_len:]:\n",
    "    sum2 += int(j)\n",
    "sum2\n",
    "\n",
    "if sum1 == sum2:\n",
    "    print('LUCKY')\n",
    "else:\n",
    "    print('READY')"
   ]
  },
  {
   "cell_type": "markdown",
   "metadata": {},
   "source": [
    "## 최종 코드"
   ]
  },
  {
   "cell_type": "code",
   "execution_count": 36,
   "metadata": {},
   "outputs": [
    {
     "name": "stdout",
     "output_type": "stream",
     "text": [
      "123402\n",
      "LUCKY\n"
     ]
    }
   ],
   "source": [
    "N = int(input())\n",
    "N_str = [i for i in str(N)]\n",
    "\n",
    "if sum(int(i) for i in N_str[0:half_len]) == sum(int(j) for j in N_str[half_len:]):\n",
    "    print('LUCKY')\n",
    "else:\n",
    "    print('READY')"
   ]
  },
  {
   "cell_type": "markdown",
   "metadata": {},
   "source": [
    "# 08. 문자열 재정렬"
   ]
  },
  {
   "cell_type": "markdown",
   "metadata": {},
   "source": [
    "## 시도 코드\n",
    "* num_int는 0~9 숫자를 문자형으로 가진 리스트, str_gp는 문자형 리스트, int_gp는 숫자형 리스트 -> 입력값에서 각각의 자릿수가 num_int에 속하면 str_gp로 그 외의 경우는 int_gp 할당 -> str_gp를 공백없이 붙이고 int_gp는 더해서 문자형으로 바꾼 후 공백없이 붙인 str_gp와 더함"
   ]
  },
  {
   "cell_type": "code",
   "execution_count": 77,
   "metadata": {},
   "outputs": [
    {
     "data": {
      "text/plain": [
       "'KIKACB12'"
      ]
     },
     "execution_count": 77,
     "metadata": {},
     "output_type": "execute_result"
    }
   ],
   "source": [
    "str_input = 'KIKA5CB7'\n",
    "\n",
    "num_int = [str(i) for i in range(0,10)]\n",
    "num_int\n",
    "\n",
    "str_gp = []\n",
    "int_gp = []\n",
    "for i in str_input:\n",
    "    if i in num_int:\n",
    "        int_gp.append(i)\n",
    "    else:\n",
    "        str_gp.append(i)\n",
    "str_gp\n",
    "int_gp\n",
    "sum(int(i) for i in int_gp)\n",
    "''.join(str_gp) + str(sum(int(i) for i in int_gp))"
   ]
  },
  {
   "cell_type": "markdown",
   "metadata": {},
   "source": [
    "## 최종 코드"
   ]
  },
  {
   "cell_type": "code",
   "execution_count": 76,
   "metadata": {},
   "outputs": [
    {
     "name": "stdout",
     "output_type": "stream",
     "text": [
      "AJKDLSI412K4JSJ9D\n"
     ]
    },
    {
     "data": {
      "text/plain": [
       "'ADDIJJJKKLSS20'"
      ]
     },
     "execution_count": 76,
     "metadata": {},
     "output_type": "execute_result"
    }
   ],
   "source": [
    "str_input = sorted(input())\n",
    "num_int = [str(i) for i in range(0,10)]\n",
    "\n",
    "''.join([i for i in sorted(str_input) if i not in num_int]) + str(sum([int(i) for i in sorted(str_input) if i in num_int]))"
   ]
  },
  {
   "cell_type": "code",
   "execution_count": null,
   "metadata": {},
   "outputs": [],
   "source": []
  }
 ],
 "metadata": {
  "kernelspec": {
   "display_name": "Python 3",
   "language": "python",
   "name": "python3"
  },
  "language_info": {
   "codemirror_mode": {
    "name": "ipython",
    "version": 3
   },
   "file_extension": ".py",
   "mimetype": "text/x-python",
   "name": "python",
   "nbconvert_exporter": "python",
   "pygments_lexer": "ipython3",
   "version": "3.8.3"
  }
 },
 "nbformat": 4,
 "nbformat_minor": 4
}
