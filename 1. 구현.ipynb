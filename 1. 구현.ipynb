{
 "cells": [
  {
   "cell_type": "markdown",
   "metadata": {},
   "source": [
    "# 2. 왕실의 나이트"
   ]
  },
  {
   "cell_type": "markdown",
   "metadata": {},
   "source": [
    "## 시도 코드"
   ]
  },
  {
   "cell_type": "code",
   "execution_count": 12,
   "metadata": {},
   "outputs": [
    {
     "data": {
      "text/plain": [
       "2"
      ]
     },
     "execution_count": 12,
     "metadata": {},
     "output_type": "execute_result"
    }
   ],
   "source": [
    "data = 'a1'\n",
    "row = int(data[1])\n",
    "col = int(ord(data[0]))-int(ord(data[0]))+1\n",
    "\n",
    "steps = [(-2,-1),(-1,-2),(1,-2),(2,-1),(2,1),(1,2),(-1,2),(-2,1)]\n",
    "\n",
    "result = 0\n",
    "for i in steps:\n",
    "    row1 = row + i[0]\n",
    "    col1 = col + i[1]\n",
    "    \n",
    "    if row1 >= 1 and row1 <=8 and col1 >= 1 and col1 <= 8:\n",
    "        result += 1\n",
    "result"
   ]
  },
  {
   "cell_type": "markdown",
   "metadata": {},
   "source": [
    "## 최종 코드"
   ]
  },
  {
   "cell_type": "code",
   "execution_count": 13,
   "metadata": {},
   "outputs": [
    {
     "name": "stdout",
     "output_type": "stream",
     "text": [
      "a1\n"
     ]
    },
    {
     "data": {
      "text/plain": [
       "2"
      ]
     },
     "execution_count": 13,
     "metadata": {},
     "output_type": "execute_result"
    }
   ],
   "source": [
    "data = input()\n",
    "row = int(data[1])\n",
    "col = int(ord(data[0]))-int(ord(data[0]))+1\n",
    "\n",
    "steps = [(-2,-1),(-1,-2),(1,-2),(2,-1),(2,1),(1,2),(-1,2),(-2,1)]\n",
    "\n",
    "result = 0\n",
    "for i in steps:\n",
    "    row1 = row + i[0]\n",
    "    col1 = col + i[1]\n",
    "    \n",
    "    if row1 >= 1 and row1 <=8 and col1 >= 1 and col1 <= 8:\n",
    "        result += 1\n",
    "result"
   ]
  },
  {
   "cell_type": "markdown",
   "metadata": {},
   "source": [
    "# 3. 게임 개발\n",
    "* 문제도 정답 코드도 이해 못했음..."
   ]
  },
  {
   "cell_type": "markdown",
   "metadata": {},
   "source": [
    "## 정답 코드\n",
    "* https://github.com/ndb796/python-for-coding-test/blob/master/4/4.py"
   ]
  },
  {
   "cell_type": "code",
   "execution_count": 15,
   "metadata": {},
   "outputs": [
    {
     "name": "stdout",
     "output_type": "stream",
     "text": [
      "4 4\n",
      "1 1 0\n",
      "1 1 1 1\n",
      "1 0 0 1\n",
      "1 1 0 1\n",
      "1 1 1 1\n",
      "3\n"
     ]
    }
   ],
   "source": [
    "# N, M을 공백을 기준으로 구분하여 입력받기\n",
    "n, m = map(int, input().split())\n",
    "\n",
    "# 방문한 위치를 저장하기 위한 맵을 생성하여 0으로 초기화\n",
    "d = [[0] * m for _ in range(n)]\n",
    "# 현재 캐릭터의 X 좌표, Y 좌표, 방향을 입력받기\n",
    "x, y, direction = map(int, input().split())\n",
    "d[x][y] = 1 # 현재 좌표 방문 처리\n",
    "\n",
    "# 전체 맵 정보를 입력받기\n",
    "array = []\n",
    "for i in range(n):\n",
    "    array.append(list(map(int, input().split())))\n",
    "\n",
    "# 북, 동, 남, 서 방향 정의\n",
    "dx = [-1, 0, 1, 0]\n",
    "dy = [0, 1, 0, -1]\n",
    "\n",
    "# 왼쪽으로 회전\n",
    "def turn_left():\n",
    "    global direction\n",
    "    direction -= 1\n",
    "    if direction == -1:\n",
    "        direction = 3\n",
    "\n",
    "# 시뮬레이션 시작\n",
    "count = 1\n",
    "turn_time = 0\n",
    "while True:\n",
    "    # 왼쪽으로 회전\n",
    "    turn_left()\n",
    "    nx = x + dx[direction]\n",
    "    ny = y + dy[direction]\n",
    "    # 회전한 이후 정면에 가보지 않은 칸이 존재하는 경우 이동\n",
    "    if d[nx][ny] == 0 and array[nx][ny] == 0:\n",
    "        d[nx][ny] = 1\n",
    "        x = nx\n",
    "        y = ny\n",
    "        count += 1\n",
    "        turn_time = 0\n",
    "        continue\n",
    "    # 회전한 이후 정면에 가보지 않은 칸이 없거나 바다인 경우\n",
    "    else:\n",
    "        turn_time += 1\n",
    "    # 네 방향 모두 갈 수 없는 경우\n",
    "    if turn_time == 4:\n",
    "        nx = x - dx[direction]\n",
    "        ny = y - dy[direction]\n",
    "        # 뒤로 갈 수 있다면 이동하기\n",
    "        if array[nx][ny] == 0:\n",
    "            x = nx\n",
    "            y = ny\n",
    "        # 뒤가 바다로 막혀있는 경우\n",
    "        else:\n",
    "            break\n",
    "        turn_time = 0\n",
    "\n",
    "# 정답 출력\n",
    "print(count)"
   ]
  },
  {
   "cell_type": "markdown",
   "metadata": {},
   "source": [
    "# 07. 럭키 스트레이트"
   ]
  },
  {
   "cell_type": "markdown",
   "metadata": {},
   "source": [
    "## 시도 코드\n",
    "* N에 점수, N_str에 N을 문자형으로 각 자리의 수, half_len에 점수에 반절 자릿수 할당 -> 왼쪽 부분(sum1), 오른쪽 부분(sum2) 동일하면 LUCKY, 그 외의 경우 READY 출력"
   ]
  },
  {
   "cell_type": "code",
   "execution_count": 16,
   "metadata": {},
   "outputs": [
    {
     "name": "stdout",
     "output_type": "stream",
     "text": [
      "READY\n"
     ]
    }
   ],
   "source": [
    "N = 123462\n",
    "N_str = [i for i in str(N)]\n",
    "half_len = int(len(N_str)/2)\n",
    "\n",
    "sum1 = 0\n",
    "for i in N_str[0:half_len]:\n",
    "    sum1 += int(i)\n",
    "sum2 = 0\n",
    "for j in N_str[half_len:]:\n",
    "    sum2 += int(j)\n",
    "sum2\n",
    "\n",
    "if sum1 == sum2:\n",
    "    print('LUCKY')\n",
    "else:\n",
    "    print('READY')"
   ]
  },
  {
   "cell_type": "markdown",
   "metadata": {},
   "source": [
    "## 최종 코드"
   ]
  },
  {
   "cell_type": "code",
   "execution_count": 36,
   "metadata": {},
   "outputs": [
    {
     "name": "stdout",
     "output_type": "stream",
     "text": [
      "123402\n",
      "LUCKY\n"
     ]
    }
   ],
   "source": [
    "N = int(input())\n",
    "N_str = [i for i in str(N)]\n",
    "\n",
    "if sum(int(i) for i in N_str[0:half_len]) == sum(int(j) for j in N_str[half_len:]):\n",
    "    print('LUCKY')\n",
    "else:\n",
    "    print('READY')"
   ]
  },
  {
   "cell_type": "markdown",
   "metadata": {},
   "source": [
    "# 08. 문자열 재정렬"
   ]
  },
  {
   "cell_type": "markdown",
   "metadata": {},
   "source": [
    "## 시도 코드\n",
    "* num_int는 0~9 숫자를 문자형으로 가진 리스트, str_gp는 문자형 리스트, int_gp는 숫자형 리스트 -> 입력값에서 각각의 자릿수가 num_int에 속하면 str_gp로 그 외의 경우는 int_gp 할당 -> str_gp를 공백없이 붙이고 int_gp는 더해서 문자형으로 바꾼 후 공백없이 붙인 str_gp와 더함"
   ]
  },
  {
   "cell_type": "code",
   "execution_count": 77,
   "metadata": {},
   "outputs": [
    {
     "data": {
      "text/plain": [
       "'KIKACB12'"
      ]
     },
     "execution_count": 77,
     "metadata": {},
     "output_type": "execute_result"
    }
   ],
   "source": [
    "str_input = 'KIKA5CB7'\n",
    "\n",
    "num_int = [str(i) for i in range(0,10)]\n",
    "num_int\n",
    "\n",
    "str_gp = []\n",
    "int_gp = []\n",
    "for i in str_input:\n",
    "    if i in num_int:\n",
    "        int_gp.append(i)\n",
    "    else:\n",
    "        str_gp.append(i)\n",
    "str_gp\n",
    "int_gp\n",
    "sum(int(i) for i in int_gp)\n",
    "''.join(str_gp) + str(sum(int(i) for i in int_gp))"
   ]
  },
  {
   "cell_type": "markdown",
   "metadata": {},
   "source": [
    "## 최종 코드"
   ]
  },
  {
   "cell_type": "code",
   "execution_count": 76,
   "metadata": {},
   "outputs": [
    {
     "name": "stdout",
     "output_type": "stream",
     "text": [
      "AJKDLSI412K4JSJ9D\n"
     ]
    },
    {
     "data": {
      "text/plain": [
       "'ADDIJJJKKLSS20'"
      ]
     },
     "execution_count": 76,
     "metadata": {},
     "output_type": "execute_result"
    }
   ],
   "source": [
    "str_input = sorted(input())\n",
    "num_int = [str(i) for i in range(0,10)]\n",
    "\n",
    "''.join([i for i in sorted(str_input) if i not in num_int]) + str(sum([int(i) for i in sorted(str_input) if i in num_int]))"
   ]
  },
  {
   "cell_type": "markdown",
   "metadata": {},
   "source": [
    "# 09. 문자열 압축\n",
    "* 문제 이해 완료했으나...아이디어 구상 중..."
   ]
  },
  {
   "cell_type": "code",
   "execution_count": null,
   "metadata": {},
   "outputs": [],
   "source": []
  },
  {
   "cell_type": "markdown",
   "metadata": {},
   "source": [
    "# 10. 자물쇠와 열쇠\n",
    "* 문제 이해 완료했으나, 아이디어 전혀 구상하지 못함"
   ]
  },
  {
   "cell_type": "code",
   "execution_count": null,
   "metadata": {},
   "outputs": [],
   "source": []
  },
  {
   "cell_type": "markdown",
   "metadata": {},
   "source": [
    "# 11. 뱀\n",
    "* 문제 이해 다 하지 못했고(입출력 예시3), 아이디어 전혀 구상하지 못함"
   ]
  },
  {
   "cell_type": "code",
   "execution_count": null,
   "metadata": {},
   "outputs": [],
   "source": []
  },
  {
   "cell_type": "markdown",
   "metadata": {},
   "source": [
    "# 나머지는 3개는 시간 부족으로 문제도 읽지 못했음..."
   ]
  },
  {
   "cell_type": "code",
   "execution_count": null,
   "metadata": {},
   "outputs": [],
   "source": []
  }
 ],
 "metadata": {
  "kernelspec": {
   "display_name": "Python 3 (ipykernel)",
   "language": "python",
   "name": "python3"
  },
  "language_info": {
   "codemirror_mode": {
    "name": "ipython",
    "version": 3
   },
   "file_extension": ".py",
   "mimetype": "text/x-python",
   "name": "python",
   "nbconvert_exporter": "python",
   "pygments_lexer": "ipython3",
   "version": "3.9.7"
  }
 },
 "nbformat": 4,
 "nbformat_minor": 4
}
